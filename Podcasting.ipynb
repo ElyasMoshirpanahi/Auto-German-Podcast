{
  "cells": [
    {
      "cell_type": "code",
      "execution_count": null,
      "metadata": {
        "id": "Ly9tt2COWPdS",
        "outputId": "058677a8-6c1a-4761-e2de-92047c3b7bb5",
        "colab": {
          "base_uri": "https://localhost:8080/"
        }
      },
      "outputs": [
        {
          "output_type": "stream",
          "name": "stdout",
          "text": [
            "today is : 2023-07-24 07:57:27.110789\n",
            "CPU times: user 132 ms, sys: 25.9 ms, total: 158 ms\n",
            "Wall time: 22.8 s\n"
          ]
        }
      ],
      "source": [
        "%%time\n",
        "# @title From Github\n",
        "from IPython.display import clear_output\n",
        "from datetime import datetime as dt\n",
        "!git clone https://github.com/elyas1376/Auto-German-Podcast.git\n",
        "!mv /content/Auto-German-Podcast/* /content/\n",
        "!echo \"BOT_TOKEN ='2091887944:AAHfm33MJliKl9n54SGIIDMDHys5Jqe49k8'\" >> private_data.py\n",
        "!echo \"CHANNEL_ID= '-1001517547778'\" >> private_data.py\n",
        "!pip install -r requirements.txt\n",
        "clear_output()\n",
        "exit()\n",
        "!python auto_podcast.py\n",
        "clear_output()\n",
        "print(f\"today is : {dt.today()}\")"
      ]
    }
  ],
  "metadata": {
    "colab": {
      "provenance": []
    },
    "kernelspec": {
      "display_name": "Python 3",
      "name": "python3"
    },
    "language_info": {
      "name": "python"
    }
  },
  "nbformat": 4,
  "nbformat_minor": 0
}